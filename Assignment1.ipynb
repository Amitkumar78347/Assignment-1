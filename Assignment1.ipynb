{
  "nbformat": 4,
  "nbformat_minor": 0,
  "metadata": {
    "colab": {
      "provenance": [],
      "mount_file_id": "1TkTQj54F1TAlvDUtLxMCDO4dlrYeuhQN",
      "authorship_tag": "ABX9TyM3tZJBpXJHPVt3hwBU2E0g",
      "include_colab_link": true
    },
    "kernelspec": {
      "name": "python3",
      "display_name": "Python 3"
    },
    "language_info": {
      "name": "python"
    }
  },
  "cells": [
    {
      "cell_type": "markdown",
      "metadata": {
        "id": "view-in-github",
        "colab_type": "text"
      },
      "source": [
        "<a href=\"https://colab.research.google.com/github/Amitkumar78347/Assignment-1/blob/main/Assignment1.ipynb\" target=\"_parent\"><img src=\"https://colab.research.google.com/assets/colab-badge.svg\" alt=\"Open In Colab\"/></a>"
      ]
    },
    {
      "cell_type": "code",
      "execution_count": null,
      "metadata": {
        "id": "4aN2CwKdAdkL"
      },
      "outputs": [],
      "source": []
    },
    {
      "cell_type": "markdown",
      "source": [
        "# **Quetion 1)** Explain the key features of the python that make it a popular choice of programming."
      ],
      "metadata": {
        "id": "NUWCJUgvAeb7"
      }
    },
    {
      "cell_type": "code",
      "source": [],
      "metadata": {
        "id": "W6g6UuzFBEs5"
      },
      "execution_count": null,
      "outputs": []
    },
    {
      "cell_type": "markdown",
      "source": [
        "**Answer 1)**\n",
        "\n",
        "**Simplicity**: Python’s clean and readable syntax makes it easy for beginners to learn and understand.\n",
        "\n",
        "**Versatility**: It supports multiple programming paradigms, including procedural, object-oriented, and functional programming.\n",
        "\n",
        "**Extensive Libraries**: Python has a rich ecosystem of libraries and frameworks (e.g., NumPy, Pandas, Django) for various applications.\n",
        "\n",
        "**Community Support:** A large and active community provides ample resources, tutorials, and forums.\n",
        "\n",
        "**Interpreted Language:** Python code is executed line-by-line, which aids in debugging and rapid development.\n",
        "\n",
        "**Cross-Platform**: Python runs on various operating systems without modification.\n",
        "\n",
        "\n",
        "\n"
      ],
      "metadata": {
        "id": "9ksCzsQ6BGz1"
      }
    },
    {
      "cell_type": "code",
      "source": [],
      "metadata": {
        "id": "-YsHWy2_CVoS"
      },
      "execution_count": null,
      "outputs": []
    },
    {
      "cell_type": "markdown",
      "source": [
        "# **Question 2)** Describe the roll of predefined keywords in python and provide examples how they are used in program."
      ],
      "metadata": {
        "id": "KeUYcNesCnHb"
      }
    },
    {
      "cell_type": "code",
      "source": [],
      "metadata": {
        "id": "fTqwUAlEDT-H"
      },
      "execution_count": null,
      "outputs": []
    },
    {
      "cell_type": "markdown",
      "source": [
        "Answer 2) In Python, predefined keywords are reserved words that have specific meanings and roles within the language. They form the syntax and structure of Python code, and cannot be used as identifiers (e.g., variable names).\n",
        "Examples:\n",
        "False\n",
        "None\n",
        "True\n",
        "and\n",
        "as\n",
        "assert\n",
        "break\n",
        "class\n",
        "continue\n",
        "def\n",
        "del\n",
        "elif\n",
        "\n",
        "\n",
        "\n",
        "Here’s a list of few keywords along with their use in programe:\n",
        "\n",
        "\n",
        "**False**\n",
        "Represents the boolean value False.\n"
      ],
      "metadata": {
        "id": "sWFRA4z0Esdi"
      }
    },
    {
      "cell_type": "code",
      "source": [
        "is_valid = False\n",
        "if not is_valid:\n",
        "    print(\"The value is not valid.\")\n"
      ],
      "metadata": {
        "colab": {
          "base_uri": "https://localhost:8080/"
        },
        "id": "LmdQUVeCGprN",
        "outputId": "53db704e-cf37-4a17-ed37-44947194d623"
      },
      "execution_count": null,
      "outputs": [
        {
          "output_type": "stream",
          "name": "stdout",
          "text": [
            "The value is not valid.\n"
          ]
        }
      ]
    },
    {
      "cell_type": "markdown",
      "source": [],
      "metadata": {
        "id": "gr6Xmd8PEqEc"
      }
    },
    {
      "cell_type": "code",
      "source": [],
      "metadata": {
        "id": "LUl6S6F9HD1S"
      },
      "execution_count": null,
      "outputs": []
    },
    {
      "cell_type": "markdown",
      "source": [
        "**True**\n",
        "Represents the boolean value True.\n"
      ],
      "metadata": {
        "id": "G9y4W7yeHSva"
      }
    },
    {
      "cell_type": "markdown",
      "source": [],
      "metadata": {
        "id": "N-KNnbVwHjMC"
      }
    },
    {
      "cell_type": "code",
      "source": [
        "is_valid = True\n",
        "if is_valid:\n",
        "    print(\"The value is valid.\")\n"
      ],
      "metadata": {
        "colab": {
          "base_uri": "https://localhost:8080/"
        },
        "id": "LtOn60uIHpeo",
        "outputId": "b0bf99f2-c39b-4fee-8f8e-cd07f9d6a1d7"
      },
      "execution_count": null,
      "outputs": [
        {
          "output_type": "stream",
          "name": "stdout",
          "text": [
            "The value is valid.\n"
          ]
        }
      ]
    },
    {
      "cell_type": "markdown",
      "source": [],
      "metadata": {
        "id": "VLU4Wp0QHZAK"
      }
    },
    {
      "cell_type": "markdown",
      "source": [
        "**else**\n",
        "Used in conditional statements to execute a block of code if none of the preceding conditions are true.\n",
        "\n"
      ],
      "metadata": {
        "id": "dsHAOAt0HvbU"
      }
    },
    {
      "cell_type": "markdown",
      "source": [],
      "metadata": {
        "id": "3y1qi0b7IE46"
      }
    },
    {
      "cell_type": "code",
      "source": [
        "x = 10\n",
        "if x < 10:\n",
        "    print(\"x is less than 10\")\n",
        "else:\n",
        "    print(\"x is 10 or more\")\n"
      ],
      "metadata": {
        "colab": {
          "base_uri": "https://localhost:8080/"
        },
        "id": "VsSN2H8zIHOK",
        "outputId": "0e78abac-f7b0-45f1-8c00-18b9c4348aa7"
      },
      "execution_count": null,
      "outputs": [
        {
          "output_type": "stream",
          "name": "stdout",
          "text": [
            "x is 10 or more\n"
          ]
        }
      ]
    },
    {
      "cell_type": "markdown",
      "source": [
        "**or**\n",
        "Logical operator that returns True if at least one operand is True.\n",
        "\n"
      ],
      "metadata": {
        "id": "ulwDMbADITLr"
      }
    },
    {
      "cell_type": "code",
      "source": [
        "a = True\n",
        "b = False\n",
        "if a or b:\n",
        "    print(\"At least one condition is true.\")\n"
      ],
      "metadata": {
        "colab": {
          "base_uri": "https://localhost:8080/"
        },
        "id": "ZwT4QAN0Ikwb",
        "outputId": "909bbb6b-de1f-4ddb-92bf-c99e8f3e7393"
      },
      "execution_count": null,
      "outputs": [
        {
          "output_type": "stream",
          "name": "stdout",
          "text": [
            "At least one condition is true.\n"
          ]
        }
      ]
    },
    {
      "cell_type": "markdown",
      "source": [
        "# **Question 3**) Compare and contrast mutable and immutable objects in python with examples."
      ],
      "metadata": {
        "id": "KNMgKm_9JGhz"
      }
    },
    {
      "cell_type": "code",
      "source": [],
      "metadata": {
        "id": "j09xxPqxJ0L-"
      },
      "execution_count": null,
      "outputs": []
    },
    {
      "cell_type": "markdown",
      "source": [
        "Answer 3)\n",
        "\n",
        "**Mutable Objects:**\n",
        "\n",
        "Mutable objects can be changed after they are created. This means you can modify the content of these objects without creating a new object.\n",
        "\n",
        "**Examples\n",
        "Mutable Objects:**\n",
        "\n",
        "\n",
        "**Lists**: Can be modified by adding, removing, or changing elements.\n",
        "\n",
        "**Dictionaries**: Can be modified by adding, removing, or changing key-value pairs.\n",
        "\n",
        "**Sets**: Can be modified by adding or removing elements.\n",
        "\n",
        "\n",
        "\n",
        "\n",
        "**Immutable Objects:**\n",
        "\n",
        "Immutable objects cannot be changed after they are created. Any modification results in the creation of a new object rather than altering the existing one.\n",
        "\n",
        "\n",
        "\n",
        "**Immutable Objects examples:**\n",
        "\n",
        "**Strings:** Cannot be changed. Any modification creates a new string.\n",
        "\n",
        "**Tuples:** Cannot be changed. Any operation that appears to modify a tuple creates a new tuple."
      ],
      "metadata": {
        "id": "LMLuRIw9J3Hj"
      }
    },
    {
      "cell_type": "markdown",
      "source": [
        "**Mutable Objects use:**\n",
        "\n",
        "Useful when you need to change the object frequently. For example, lists are often used when the size or content needs to be updated dynamically.\n",
        "\n",
        "\n",
        "**Immutable Objects use:**\n",
        "\n",
        "Useful for fixed collections of data or when you need to ensure that data cannot be modified, which can be beneficial for data integrity and safety in concurrent programming."
      ],
      "metadata": {
        "id": "BrJnAFkBLiyD"
      }
    },
    {
      "cell_type": "markdown",
      "source": [
        "**Mutable Object Example (List)**\n",
        "\n",
        "\n",
        "\n"
      ],
      "metadata": {
        "id": "mPjDyhduLz0r"
      }
    },
    {
      "cell_type": "code",
      "source": [
        "# Creating a list\n",
        "my_list = [1, 2, 3]\n",
        "\n",
        "# Modifying the list\n",
        "my_list.append(4)  # List is changed in place\n",
        "\n",
        "print(my_list)  # Output: [1, 2, 3, 4]\n",
        "\n",
        "\n"
      ],
      "metadata": {
        "colab": {
          "base_uri": "https://localhost:8080/"
        },
        "id": "kmaXt8ouMJ_A",
        "outputId": "a6d0d58b-747b-4845-bff4-55603aa48f77"
      },
      "execution_count": null,
      "outputs": [
        {
          "output_type": "stream",
          "name": "stdout",
          "text": [
            "[1, 2, 3, 4]\n"
          ]
        }
      ]
    },
    {
      "cell_type": "markdown",
      "source": [],
      "metadata": {
        "id": "_3CDXUAyK6hy"
      }
    },
    {
      "cell_type": "markdown",
      "source": [
        "**Immutable Object Example (String)**\n",
        "\n"
      ],
      "metadata": {
        "id": "fWzKkNsgMmK7"
      }
    },
    {
      "cell_type": "code",
      "source": [
        "# Creating a string\n",
        "my_string = \"Hello\"\n",
        "\n",
        "# Modifying the string (creates a new string)\n",
        "new_string = my_string.replace(\"H\", \"J\")\n",
        "\n",
        "print(new_string)  # Output: \"Jello\"\n",
        "\n",
        "# Original string remains unchanged\n",
        "print(my_string)  # Output: \"Hello\"\n",
        "\n",
        "\n"
      ],
      "metadata": {
        "colab": {
          "base_uri": "https://localhost:8080/"
        },
        "id": "VvasdfPVMr1q",
        "outputId": "32f662b5-ff36-43da-f2a4-1f74ecd5c368"
      },
      "execution_count": null,
      "outputs": [
        {
          "output_type": "stream",
          "name": "stdout",
          "text": [
            "Jello\n",
            "Hello\n"
          ]
        }
      ]
    },
    {
      "cell_type": "markdown",
      "source": [],
      "metadata": {
        "id": "E4oRl4F-J0w7"
      }
    },
    {
      "cell_type": "markdown",
      "source": [
        "# **Question 4)** Discuss different type of operators in python and provide how they are used."
      ],
      "metadata": {
        "id": "qyE1dMXoVZ9i"
      }
    },
    {
      "cell_type": "code",
      "source": [],
      "metadata": {
        "id": "EjW-v0eaWD7o"
      },
      "execution_count": null,
      "outputs": []
    },
    {
      "cell_type": "markdown",
      "source": [
        "Answer 4)\n",
        "\n",
        "In Python, **operators** are special symbols or keywords that perform operations on values or variables. Python supports a variety of operators categorized into different types. Here's a comprehensive overview of the different types of operators in Python, along with examples of how they are used:\n",
        "\n",
        "1**. Arithmetic Operators**\n",
        "Arithmetic operators are used to perform mathematical operations.\n",
        "\n",
        "Addition (+): Adds two operands.\n",
        "\n"
      ],
      "metadata": {
        "id": "WhF8dqgUWEgE"
      }
    },
    {
      "cell_type": "code",
      "source": [
        "a = 10\n",
        "b = 5\n",
        "result = a + b\n",
        "print(result)  # Output: 15\n"
      ],
      "metadata": {
        "colab": {
          "base_uri": "https://localhost:8080/"
        },
        "id": "puyvYO23WmIX",
        "outputId": "b4dd8f37-72c4-4983-fb71-425cea72f322"
      },
      "execution_count": null,
      "outputs": [
        {
          "output_type": "stream",
          "name": "stdout",
          "text": [
            "15\n"
          ]
        }
      ]
    },
    {
      "cell_type": "markdown",
      "source": [
        "Subtraction (-): Subtracts the second operand from the first.\n",
        "\n",
        "Multiplication (*): Multiplies two operands.\n",
        "\n",
        "Multiplication (*): Multiplies two operands.\n",
        "\n",
        "Division (/): Divides the first operand by the second and returns a float.\n"
      ],
      "metadata": {
        "id": "EfaEc8kZWo5-"
      }
    },
    {
      "cell_type": "code",
      "source": [
        "a = 10\n",
        "b = 3\n",
        "result = a / b\n",
        "print(result)  # Output: 3.3333333333333335\n"
      ],
      "metadata": {
        "colab": {
          "base_uri": "https://localhost:8080/"
        },
        "id": "xcmRCsLGXBYG",
        "outputId": "828edb02-117e-4a21-e0e9-3937ec80f5c3"
      },
      "execution_count": null,
      "outputs": [
        {
          "output_type": "stream",
          "name": "stdout",
          "text": [
            "3.3333333333333335\n"
          ]
        }
      ]
    },
    {
      "cell_type": "markdown",
      "source": [
        "Floor Division (//): Divides the first operand by the second and returns the\n",
        "integer part of the quotient.\n",
        "\n",
        "\n",
        "Exponentiation (**): Raises the first operand to the power of the second operand.\n",
        "\n",
        "Modulus (%): Returns the remainder of the division.\n",
        "\n",
        "\n",
        "\n"
      ],
      "metadata": {
        "id": "U7ZKdAK7XHEL"
      }
    },
    {
      "cell_type": "code",
      "source": [
        "a = 10\n",
        "b = 3\n",
        "result = a % b\n",
        "print(result)  # Output: 1\n"
      ],
      "metadata": {
        "colab": {
          "base_uri": "https://localhost:8080/"
        },
        "id": "KT_rKgMHXlEc",
        "outputId": "ff54f7c9-7a62-45ee-9cdb-1ee239542fcc"
      },
      "execution_count": null,
      "outputs": [
        {
          "output_type": "stream",
          "name": "stdout",
          "text": [
            "1\n"
          ]
        }
      ]
    },
    {
      "cell_type": "markdown",
      "source": [
        "**2. Comparison Operators**\n",
        "\n",
        "Equal to (==): Checks if two values are equal.\n",
        "\n",
        "Not equal to (!=): Checks if two values are not equal.\n",
        "\n",
        "Greater than (>): Checks if the first value is greater than the second.\n",
        "\n",
        "Less than (<): Checks if the first value is less than the second.\n",
        "\n",
        "Greater than or equal to (>=): Checks if the first value is greater than or equal to the second.\n",
        "\n",
        "\n"
      ],
      "metadata": {
        "id": "2I_-cKr3Xv9a"
      }
    },
    {
      "cell_type": "code",
      "source": [
        "a = 10\n",
        "b = 15\n",
        "result = (a <= b)\n",
        "print(result)  # Output: True\n"
      ],
      "metadata": {
        "colab": {
          "base_uri": "https://localhost:8080/"
        },
        "id": "whzpNFBoYKFw",
        "outputId": "8f7290e1-6147-434b-f0a8-c668e4fb0e0d"
      },
      "execution_count": null,
      "outputs": [
        {
          "output_type": "stream",
          "name": "stdout",
          "text": [
            "True\n"
          ]
        }
      ]
    },
    {
      "cell_type": "markdown",
      "source": [
        "**3. Logical Operators**\n",
        "\n",
        "Logical AND (and): Returns True if both operands are true.\n",
        "\n",
        "Logical OR (or): Returns True if at least one of the operands is true.\n",
        "\n",
        "Logical NOT (not): Returns True if the operand is false.\n",
        "\n",
        "\n"
      ],
      "metadata": {
        "id": "yADFXgs8YLzM"
      }
    },
    {
      "cell_type": "code",
      "source": [
        "a = True\n",
        "result = not a\n",
        "print(result)  # Output: False\n"
      ],
      "metadata": {
        "colab": {
          "base_uri": "https://localhost:8080/"
        },
        "id": "O3_SZ7gGYitb",
        "outputId": "536e2641-7179-48a1-df02-8e86dd065b14"
      },
      "execution_count": null,
      "outputs": [
        {
          "output_type": "stream",
          "name": "stdout",
          "text": [
            "False\n"
          ]
        }
      ]
    },
    {
      "cell_type": "markdown",
      "source": [
        "**4. Assignment Operators**\n",
        "\n",
        "Addition assignment (+=): Adds the right operand to the left operand and assigns the result to the left operand.\n",
        "\n"
      ],
      "metadata": {
        "id": "_-0yvkzfYnkk"
      }
    },
    {
      "cell_type": "code",
      "source": [
        "a = 10\n",
        "a += 5  # Equivalent to a = a + 5\n",
        "print(a)  # Output: 15\n"
      ],
      "metadata": {
        "colab": {
          "base_uri": "https://localhost:8080/"
        },
        "id": "lvKln323YypO",
        "outputId": "f22c9bbd-27fd-4e9d-b0f5-7577c65fd9bf"
      },
      "execution_count": null,
      "outputs": [
        {
          "output_type": "stream",
          "name": "stdout",
          "text": [
            "15\n"
          ]
        }
      ]
    },
    {
      "cell_type": "markdown",
      "source": [
        "**5. Bitwise Operators**\n",
        "\n",
        "OR (|): Performs a bitwise OR operation.\n",
        "\n"
      ],
      "metadata": {
        "id": "C9K6c2-HY1gM"
      }
    },
    {
      "cell_type": "code",
      "source": [
        "a = 10  # 1010 in binary\n",
        "b = 4   # 0100 in binary\n",
        "result = a | b\n",
        "print(result)  # Output: 14 (1110 in binary)\n"
      ],
      "metadata": {
        "colab": {
          "base_uri": "https://localhost:8080/"
        },
        "id": "8edtlBNIZC4s",
        "outputId": "6ebdca27-480d-43e0-fed6-80897c194e58"
      },
      "execution_count": null,
      "outputs": [
        {
          "output_type": "stream",
          "name": "stdout",
          "text": [
            "14\n"
          ]
        }
      ]
    },
    {
      "cell_type": "markdown",
      "source": [
        "AND (&): Performs a bitwise AND operation.\n",
        "\n",
        "XOR (^): Performs a bitwise XOR operation.\n",
        "\n",
        "Left Shift (<<): Shifts the bits of the first operand to the left by the number of positions specified by the second operand.\n",
        "\n",
        "Right Shift (>>): Shifts the bits of the first operand to the right by the number of positions specified by the second operand.\n",
        "\n"
      ],
      "metadata": {
        "id": "i3TnIlnPZFds"
      }
    },
    {
      "cell_type": "markdown",
      "source": [],
      "metadata": {
        "id": "NlpLOBEAZSX8"
      }
    },
    {
      "cell_type": "code",
      "source": [
        "a = 10  # 1010 in binary\n",
        "result = a >> 2\n",
        "print(result)  # Output: 2 (0010 in binary)\n"
      ],
      "metadata": {
        "colab": {
          "base_uri": "https://localhost:8080/"
        },
        "id": "hIoLkLejZSmD",
        "outputId": "200c0085-567f-4c5e-eec1-24f6e070949a"
      },
      "execution_count": null,
      "outputs": [
        {
          "output_type": "stream",
          "name": "stdout",
          "text": [
            "2\n"
          ]
        }
      ]
    },
    {
      "cell_type": "markdown",
      "source": [
        "**6. Identity Operators**\n",
        "\n",
        "is: Returns True if both operands refer to the same object."
      ],
      "metadata": {
        "id": "ISnd3w3gZVTL"
      }
    },
    {
      "cell_type": "markdown",
      "source": [
        "# **Question 5)** Explain the concept of type casting in python with examples."
      ],
      "metadata": {
        "id": "HV0IRTtdZfCb"
      }
    },
    {
      "cell_type": "markdown",
      "source": [],
      "metadata": {
        "id": "QZoDZr93XpRt"
      }
    },
    {
      "cell_type": "markdown",
      "source": [
        "Answer 5)  In Python, **type casting** (or type conversion) refers to the process of converting a value from one data type to another. This is a common operation when dealing with different types of data and ensures that values are in the appropriate type for a particular operation or function.\n",
        "\n",
        "\n",
        "Python provides several built-in functions for type casting, each designed to convert between specific types. Here's a detailed explanation of type casting with examples:\n",
        "\n",
        "** Integer Conversion (int())**\n",
        "\n"
      ],
      "metadata": {
        "id": "DRiURiP9aPA0"
      }
    },
    {
      "cell_type": "code",
      "source": [
        "# Convert float to integer\n",
        "float_value = 3.14\n",
        "int_value = int(float_value)\n",
        "print(int_value)  # Output: 3\n",
        "\n",
        "\n"
      ],
      "metadata": {
        "colab": {
          "base_uri": "https://localhost:8080/"
        },
        "id": "9aqvYQCIaqDh",
        "outputId": "a963af26-6f18-41aa-cefc-797edc48f9b9"
      },
      "execution_count": null,
      "outputs": [
        {
          "output_type": "stream",
          "name": "stdout",
          "text": [
            "3\n"
          ]
        }
      ]
    },
    {
      "cell_type": "markdown",
      "source": [
        "**Float Conversion (float())**\n",
        "\n"
      ],
      "metadata": {
        "id": "o1U52pavau3e"
      }
    },
    {
      "cell_type": "code",
      "source": [
        "# Convert integer to float\n",
        "int_value = 10\n",
        "float_value = float(int_value)\n",
        "print(float_value)  # Output: 10.0\n",
        "\n",
        "\n"
      ],
      "metadata": {
        "colab": {
          "base_uri": "https://localhost:8080/"
        },
        "id": "A7t9ujpGa0TF",
        "outputId": "c54573fa-379b-4b25-cd43-373cfbb3c3e5"
      },
      "execution_count": null,
      "outputs": [
        {
          "output_type": "stream",
          "name": "stdout",
          "text": [
            "10.0\n"
          ]
        }
      ]
    },
    {
      "cell_type": "markdown",
      "source": [
        "**String Conversion (str())**\n",
        "\n"
      ],
      "metadata": {
        "id": "TK-WfTKfa6Wd"
      }
    },
    {
      "cell_type": "code",
      "source": [
        "# Convert integer to string\n",
        "int_value = 42\n",
        "string_value = str(int_value)\n",
        "print(string_value)  # Output: \"42\"\n",
        "\n",
        "\n"
      ],
      "metadata": {
        "colab": {
          "base_uri": "https://localhost:8080/"
        },
        "id": "0QXYooADa9v9",
        "outputId": "c0c678c2-f5f0-442d-e529-fe875347fa08"
      },
      "execution_count": null,
      "outputs": [
        {
          "output_type": "stream",
          "name": "stdout",
          "text": [
            "42\n"
          ]
        }
      ]
    },
    {
      "cell_type": "markdown",
      "source": [
        "# **Question 6)** How do conditional statements work in python? Illustrate with example."
      ],
      "metadata": {
        "id": "gi8Am2ZWbH7G"
      }
    },
    {
      "cell_type": "markdown",
      "source": [
        "Answer 6)\n",
        "\n",
        "**Conditional statements** in Python are used to execute different blocks of code based on certain conditions. These conditions are evaluated as True or False, and based on this evaluation, the appropriate code block is executed. The primary conditional statements in Python are  **if, elif, and else.**\n",
        "\n",
        "\n",
        "1. if Statement\n",
        "The if statement evaluates a condition (an expression that returns True or False). If the condition is True, the block of code inside the if statement is executed.\n",
        "\n"
      ],
      "metadata": {
        "id": "jReln2ohbrs8"
      }
    },
    {
      "cell_type": "code",
      "source": [
        "age = 20\n",
        "\n",
        "if age >= 18:\n",
        "    print(\"You are an adult.\")\n"
      ],
      "metadata": {
        "colab": {
          "base_uri": "https://localhost:8080/"
        },
        "id": "pRU-KQrmb_vL",
        "outputId": "28a12950-82ec-4337-bac1-6722a2b0cc30"
      },
      "execution_count": null,
      "outputs": [
        {
          "output_type": "stream",
          "name": "stdout",
          "text": [
            "You are an adult.\n"
          ]
        }
      ]
    },
    {
      "cell_type": "markdown",
      "source": [
        "2. elif Statement\n",
        "\n",
        "The elif (short for \"else if\") statement allows you to check multiple conditions. It follows an if statement and is only evaluated if the previous if (or elif) condition was False.\n",
        "\n"
      ],
      "metadata": {
        "id": "PP6FmPnRcC7W"
      }
    },
    {
      "cell_type": "code",
      "source": [
        "temperature = 15\n",
        "\n",
        "if temperature > 30:\n",
        "    print(\"It's a hot day.\")\n",
        "elif temperature > 20:\n",
        "    print(\"It's a warm day.\")\n",
        "else:\n",
        "    print(\"It's a cold day.\")\n"
      ],
      "metadata": {
        "colab": {
          "base_uri": "https://localhost:8080/"
        },
        "id": "AVftts8pce1p",
        "outputId": "84e133e9-1a40-4869-af4d-031470f859aa"
      },
      "execution_count": null,
      "outputs": [
        {
          "output_type": "stream",
          "name": "stdout",
          "text": [
            "It's a cold day.\n"
          ]
        }
      ]
    },
    {
      "cell_type": "markdown",
      "source": [
        "3. else Statement\n",
        "\n",
        "The else statement provides a block of code that is executed if none of the preceding if or elif conditions are True.\n",
        "\n",
        "\n",
        "\n",
        "4. Nested Conditional Statements\n",
        "\n",
        "You can also nest if, elif, and else statements within each other. This allows for more complex decision-making.\n",
        "\n"
      ],
      "metadata": {
        "id": "1Rnjx4NYchxl"
      }
    },
    {
      "cell_type": "code",
      "source": [
        "number = 15\n",
        "\n",
        "if number > 0:\n",
        "    if number % 2 == 0:\n",
        "        print(\"The number is positive and even.\")\n",
        "    else:\n",
        "        print(\"The number is positive and odd.\")\n",
        "else:\n",
        "    print(\"The number is non-positive.\")\n"
      ],
      "metadata": {
        "colab": {
          "base_uri": "https://localhost:8080/"
        },
        "id": "IOfMrtX4cwIn",
        "outputId": "cb30e760-9297-4844-c2ef-821aea6a761b"
      },
      "execution_count": null,
      "outputs": [
        {
          "output_type": "stream",
          "name": "stdout",
          "text": [
            "The number is positive and odd.\n"
          ]
        }
      ]
    },
    {
      "cell_type": "markdown",
      "source": [
        "# **Question 7)** Describe different type of loops in python and their use cases with examples."
      ],
      "metadata": {
        "id": "IvNYzCNjc2Qf"
      }
    },
    {
      "cell_type": "code",
      "source": [
        "\n",
        "\n"
      ],
      "metadata": {
        "id": "YKIoLNnydTR1"
      },
      "execution_count": null,
      "outputs": []
    },
    {
      "cell_type": "markdown",
      "source": [
        "Answer 7)\n",
        "\n",
        "In Python, loops are used to execute a block of code repeatedly based on certain conditions. Python provides several types of loops, each suited for different scenarios. Here’s a detailed description of the different types of loops in Python, their use cases, and examples:\n",
        "\n",
        "\n",
        "**1. for Loop**\n",
        "\n",
        "Use Cases:\n",
        "\n",
        "Iterating over items in a list or tuple.\n",
        "\n",
        "Processing each character in a string.\n",
        "\n",
        "Executing a block of code a specific number of times using range().\n",
        "\n",
        "\n"
      ],
      "metadata": {
        "id": "dqX8-cjOdYxF"
      }
    },
    {
      "cell_type": "code",
      "source": [
        "fruits = [\"apple\", \"banana\", \"cherry\"]\n",
        "\n",
        "for fruit in fruits:\n",
        "    print(fruit)\n"
      ],
      "metadata": {
        "colab": {
          "base_uri": "https://localhost:8080/"
        },
        "id": "fn91vcDAdt-9",
        "outputId": "92dd2971-ea68-4b82-895f-cbaa816a4418"
      },
      "execution_count": null,
      "outputs": [
        {
          "output_type": "stream",
          "name": "stdout",
          "text": [
            "apple\n",
            "banana\n",
            "cherry\n"
          ]
        }
      ]
    },
    {
      "cell_type": "markdown",
      "source": [
        "**2. while Loop**\n",
        "\n",
        "Use Cases:\n",
        "\n",
        "Repeatedly performing an action until a condition changes.\n",
        "\n",
        "Implementing algorithms that require checking a condition each iteration.\n",
        "\n"
      ],
      "metadata": {
        "id": "pdKBncuKdwLG"
      }
    },
    {
      "cell_type": "code",
      "source": [
        "count = 0\n",
        "\n",
        "while count < 5:\n",
        "    print(count)\n",
        "    count += 1\n"
      ],
      "metadata": {
        "colab": {
          "base_uri": "https://localhost:8080/"
        },
        "id": "_O9z4HQqd_HP",
        "outputId": "da61d36e-3188-4bd8-beec-94b9e958417c"
      },
      "execution_count": null,
      "outputs": [
        {
          "output_type": "stream",
          "name": "stdout",
          "text": [
            "0\n",
            "1\n",
            "2\n",
            "3\n",
            "4\n"
          ]
        }
      ]
    },
    {
      "cell_type": "markdown",
      "source": [],
      "metadata": {
        "id": "DZKv8qsrdXCO"
      }
    },
    {
      "cell_type": "markdown",
      "source": [],
      "metadata": {
        "id": "yWJ5uMgpZ2pW"
      }
    }
  ]
}